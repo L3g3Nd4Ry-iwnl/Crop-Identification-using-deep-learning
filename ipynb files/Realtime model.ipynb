{
 "cells": [
  {
   "cell_type": "markdown",
   "metadata": {},
   "source": [
    "## Realtime model"
   ]
  },
  {
   "cell_type": "code",
   "execution_count": 1,
   "metadata": {},
   "outputs": [],
   "source": [
    "import sys\n",
    "from skimage.io import imshow, imread\n",
    "from skimage.color import rgb2gray\n",
    "from skimage.filters import threshold_otsu\n",
    "from skimage.morphology import closing\n",
    "from skimage.measure import label, regionprops, regionprops_table\n",
    "import pandas as pd\n",
    "import numpy as np\n",
    "import os, random, cv2, shutil, platform, sys\n",
    "from PIL import Image\n",
    "import numpy as np\n",
    "from sklearn.ensemble import BaggingClassifier\n",
    "from sklearn.tree import DecisionTreeClassifier\n",
    "from sklearn import model_selection\n",
    "x_train=pd.read_csv(\"x_train.csv\")\n",
    "y_train=pd.read_csv(\"y_train.csv\")\n",
    "x_test=pd.read_csv(\"x_test.csv\")\n",
    "y_test=pd.read_csv(\"y_test.csv\")\n",
    "col_list=['eccentricity', 'extent', 'moments_hu-0', 'moments_hu-1', 'moments_hu-2', 'euler_number', 'mean_intensity', 'std_intensity', '25th Percentile', '75th Percentile', 'iqr']"
   ]
  },
  {
   "cell_type": "code",
   "execution_count": 6,
   "metadata": {},
   "outputs": [],
   "source": [
    "def removeBackground(filepath, folderpath, filename):\n",
    "    img = cv2.imread(filepath)#Get image link from the database\n",
    "    hsv = cv2.cvtColor(img, cv2.COLOR_BGR2HSV)\n",
    "    mask_green = cv2.inRange(hsv, (36,39,20), (86,255,255))\n",
    "    mask_brown = cv2.inRange(hsv, (8, 60, 20), (30, 255, 200))\n",
    "    mask_yellow = cv2.inRange(hsv, (21, 39, 64), (40, 255, 255))\n",
    "    mask = cv2.bitwise_or(mask_green, mask_brown)\n",
    "    mask = cv2.bitwise_or(mask, mask_yellow)\n",
    "    res = cv2.bitwise_and(img,img, mask= mask)\n",
    "    cv2.imwrite(filepath+\"_removed.jpg\", res)\n",
    "    f_img= filepath + '_removed.jpg'\n",
    "    img = Image.open(f_img)\n",
    "    img = img.resize((6000,4000))\n",
    "    img.save(f_img)\n",
    "    return f_img"
   ]
  },
  {
   "cell_type": "code",
   "execution_count": 7,
   "metadata": {},
   "outputs": [],
   "source": [
    "def extractFeature(f_img):\n",
    "    df = pd.DataFrame()\n",
    "    image = rgb2gray(imread(f_img))\n",
    "    binary = image < threshold_otsu(image)\n",
    "    binary = closing(binary)\n",
    "    label_img = label(binary)\n",
    "    table = pd.DataFrame(regionprops_table(label_img, image,['convex_area', 'area', 'eccentricity','extent', 'inertia_tensor','major_axis_length', 'minor_axis_length','perimeter', 'solidity','orientation', 'moments_central','moments_hu', 'euler_number','equivalent_diameter','mean_intensity', 'bbox']))\n",
    "    table['perimeter_area_ratio'] = table['perimeter']/table['area']\n",
    "    real_images = []\n",
    "    std = []\n",
    "    mean = []\n",
    "    percent25 = []\n",
    "    percent75 = []\n",
    "    for prop in regionprops(label_img): \n",
    "        min_row, min_col, max_row, max_col = prop.bbox\n",
    "        img = image[min_row:max_row,min_col:max_col]\n",
    "        real_images += [img]\n",
    "        mean += [np.mean(img)]\n",
    "        std += [np.std(img)]\n",
    "        percent25 += [np.percentile(img, 25)] \n",
    "        percent75 += [np.percentile(img, 75)]\n",
    "    table['mean_intensity'] = mean\n",
    "    table['std_intensity'] = std\n",
    "    table['25th Percentile'] = mean\n",
    "    table['75th Percentile'] = std\n",
    "    table['iqr'] = table['75th Percentile'] - table['25th Percentile']\n",
    "    df = pd.concat([df, table.iloc[:1,:]], axis=0)\n",
    "    df = df[col_list]\n",
    "    return df"
   ]
  },
  {
   "cell_type": "code",
   "execution_count": 8,
   "metadata": {},
   "outputs": [],
   "source": [
    "from sklearn.preprocessing import StandardScaler\n",
    "def normalize(df):\n",
    "    frames = [df, x_train]\n",
    "    result = pd.concat(frames)\n",
    "    scaler = StandardScaler()\n",
    "    df2 = scaler.fit_transform(result)\n",
    "    df2 = pd.DataFrame(df2, columns = col_list)\n",
    "    row_1=df.iloc[0]\n",
    "    df3=pd.DataFrame(row_1)\n",
    "    df3= df3.transpose()\n",
    "    return df3"
   ]
  },
  {
   "cell_type": "code",
   "execution_count": 9,
   "metadata": {},
   "outputs": [],
   "source": [
    "def getresult(df3):\n",
    "    seed = 8\n",
    "    kfold = model_selection.KFold(n_splits = 3, random_state = seed, shuffle=True)\n",
    "    base_cls = DecisionTreeClassifier()\n",
    "    num_trees = 500\n",
    "    model = BaggingClassifier(base_estimator = base_cls,n_estimators = num_trees,random_state = seed)\n",
    "    model.fit(x_train,y_train.values.ravel())\n",
    "    pred1 = model.predict(df3)\n",
    "    if(pred1[0]==0):\n",
    "        print('Guava')\n",
    "    elif(pred1[0]==1):\n",
    "        print('jamun')\n",
    "    elif(pred1[0]==2):\n",
    "        print('Lemon')\n",
    "    else:\n",
    "        print('Mango')"
   ]
  },
  {
   "cell_type": "code",
   "execution_count": 11,
   "metadata": {},
   "outputs": [
    {
     "name": "stdout",
     "output_type": "stream",
     "text": [
      "Mango\n",
      "0:00:07.781880\n"
     ]
    }
   ],
   "source": [
    "import datetime\n",
    "begin_time = datetime.datetime.now()\n",
    "folderpath = sys.argv[1]\n",
    "filename = sys.argv[2]\n",
    "filepath = os.path.join(filepath, folderpath, filename)\n",
    "# name='E:\\\\amrita class notes\\\\Final year project\\\\Sem 7\\\\Dataset\\\\dataset\\\\Mango\\\\0001_0059.JPG'\n",
    "f_img=removeBackground(filepath)\n",
    "df=extractFeature(f_img)\n",
    "df3= normalize(df)\n",
    "getresult(df3)\n",
    "print(datetime.datetime.now() - begin_time)"
   ]
  },
  {
   "cell_type": "code",
   "execution_count": null,
   "metadata": {},
   "outputs": [],
   "source": []
  }
 ],
 "metadata": {
  "kernelspec": {
   "display_name": "Python 3",
   "language": "python",
   "name": "python3"
  },
  "language_info": {
   "codemirror_mode": {
    "name": "ipython",
    "version": 3
   },
   "file_extension": ".py",
   "mimetype": "text/x-python",
   "name": "python",
   "nbconvert_exporter": "python",
   "pygments_lexer": "ipython3",
   "version": "3.8.5"
  }
 },
 "nbformat": 4,
 "nbformat_minor": 4
}
