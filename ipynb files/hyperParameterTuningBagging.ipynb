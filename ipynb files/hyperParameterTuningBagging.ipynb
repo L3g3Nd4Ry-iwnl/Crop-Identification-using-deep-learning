{
 "cells": [
  {
   "cell_type": "code",
   "execution_count": 9,
   "metadata": {},
   "outputs": [],
   "source": [
    "import pandas as pd\n",
    "x_train=pd.read_csv(\"x_train.csv\")\n",
    "y_train=pd.read_csv(\"y_train.csv\")\n",
    "x_test=pd.read_csv(\"x_test.csv\")\n",
    "y_test=pd.read_csv(\"y_test.csv\")"
   ]
  },
  {
   "cell_type": "code",
   "execution_count": 10,
   "metadata": {},
   "outputs": [],
   "source": [
    "from sklearn.metrics import precision_score, f1_score, log_loss, mean_squared_error, accuracy_score, confusion_matrix\n",
    "from sklearn import model_selection, metrics\n",
    "from sklearn.ensemble import BaggingClassifier\n",
    "from sklearn.tree import DecisionTreeClassifier"
   ]
  },
  {
   "cell_type": "code",
   "execution_count": 13,
   "metadata": {},
   "outputs": [
    {
     "name": "stdout",
     "output_type": "stream",
     "text": [
      "101\n",
      "14\n"
     ]
    }
   ],
   "source": [
    "seed = 8\n",
    "base_cls = DecisionTreeClassifier()\n",
    "m=0\n",
    "for i in range(1,1001,100):\n",
    "    for j in range(1,42):\n",
    "        model = BaggingClassifier(base_estimator = base_cls,n_estimators = i,random_state = j)\n",
    "        model.fit(x_train,y_train.values.ravel())\n",
    "        pred1 = model.predict(x_test)\n",
    "        a=accuracy_score(y_test,pred1.round())\n",
    "        if(m<a):\n",
    "            x=i\n",
    "            y=j\n",
    "            m=a\n",
    "print(x)\n",
    "print(y)"
   ]
  },
  {
   "cell_type": "code",
   "execution_count": 28,
   "metadata": {},
   "outputs": [
    {
     "name": "stdout",
     "output_type": "stream",
     "text": [
      "0.9548387096774194\n"
     ]
    }
   ],
   "source": [
    "a=[]\n",
    "for i in range(100,1000):\n",
    "    model = BaggingClassifier(base_estimator = base_cls,n_estimators = i, random_state = 14)\n",
    "    model.fit(x_train,y_train.values.ravel())\n",
    "    pred1 = model.predict(x_test)\n",
    "    a.append(accuracy_score(y_test,pred1.round()))\n",
    "print(max(a))"
   ]
  },
  {
   "cell_type": "code",
   "execution_count": 26,
   "metadata": {},
   "outputs": [
    {
     "data": {
      "text/plain": [
       "0.9548387096774194"
      ]
     },
     "execution_count": 26,
     "metadata": {},
     "output_type": "execute_result"
    }
   ],
   "source": [
    "model = BaggingClassifier(base_estimator = base_cls,n_estimators = 101, random_state = 14)\n",
    "model.fit(x_train,y_train.values.ravel())\n",
    "pred1 = model.predict(x_test)\n",
    "accuracy_score(y_test,pred1.round())"
   ]
  },
  {
   "cell_type": "code",
   "execution_count": null,
   "metadata": {},
   "outputs": [],
   "source": []
  }
 ],
 "metadata": {
  "kernelspec": {
   "display_name": "Python 3",
   "language": "python",
   "name": "python3"
  },
  "language_info": {
   "codemirror_mode": {
    "name": "ipython",
    "version": 3
   },
   "file_extension": ".py",
   "mimetype": "text/x-python",
   "name": "python",
   "nbconvert_exporter": "python",
   "pygments_lexer": "ipython3",
   "version": "3.8.5"
  }
 },
 "nbformat": 4,
 "nbformat_minor": 4
}
