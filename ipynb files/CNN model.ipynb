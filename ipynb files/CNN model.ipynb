{
 "cells": [
  {
   "cell_type": "code",
   "execution_count": 86,
   "metadata": {},
   "outputs": [],
   "source": [
    "import pandas as pd\n",
    "import numpy as np\n",
    "import os, random, cv2, shutil, platform, sys\n",
    "\n",
    "import keras\n",
    "import keras.backend as k\n",
    "from keras.layers import Conv2D,MaxPooling2D,SpatialDropout2D,Flatten,Dropout,Dense\n",
    "from keras.models import Sequential,load_model\n",
    "from tensorflow.keras.optimizers import Adam\n",
    "from keras.preprocessing import image\n",
    "from PIL import Image"
   ]
  },
  {
   "cell_type": "markdown",
   "metadata": {},
   "source": [
    "### BG Remover"
   ]
  },
  {
   "cell_type": "code",
   "execution_count": 5,
   "metadata": {},
   "outputs": [
    {
     "name": "stdout",
     "output_type": "stream",
     "text": [
      "Arjun  had been completed!\n",
      "Guava  had been completed!\n",
      "Jamun  had been completed!\n",
      "Lemon  had been completed!\n",
      "Mango  had been completed!\n",
      "Pomegranate  had been completed!\n"
     ]
    }
   ],
   "source": [
    "folderNames = [\"Arjun\",\"Guava\",\"Jamun\",\"Lemon\",\"Mango\",\"Pomegranate\"]\n",
    "\n",
    "inpFolder = r\"E:\\\\amrita class notes\\\\Final year project\\\\Sem 7\\\\Dataset\\\\dataset\"\n",
    "outFolder = r\"E:\\\\amrita class notes\\\\Final year project\\\\Sem 7\\\\Dataset\\\\bgRemoved_dataset\"\n",
    "for folder in folderNames:\n",
    "    for filename in os.listdir(os.path.join(inpFolder,folder)):\n",
    "        if filename.endswith(\".JPG\"):\n",
    "            img =  cv2.imread(os.path.join(inpFolder,folder,filename))\n",
    "            hsv = cv2.cvtColor(img, cv2.COLOR_BGR2HSV)\n",
    "            \n",
    "            # find the green color in the leaf\n",
    "            mask_green = cv2.inRange(hsv, (36,39,20), (86,255,255))\n",
    "            # find the brown color1\n",
    "            mask_brown = cv2.inRange(hsv, (8, 60, 20), (30, 255, 200))\n",
    "            # find the yellow color in the leaf\n",
    "            mask_yellow = cv2.inRange(hsv, (21, 39, 64), (40, 255, 255))\n",
    "\n",
    "            # find any of the three colors(green or brown or yellow) in the image\n",
    "            mask = cv2.bitwise_or(mask_green, mask_brown)\n",
    "            mask = cv2.bitwise_or(mask, mask_yellow)\n",
    "\n",
    "            # Bitwise-AND mask and original image\n",
    "            res = cv2.bitwise_and(img,img, mask= mask)\n",
    "            cv2.imwrite(os.path.join(outFolder,folder,filename), res)    \n",
    "    print(folder,\" had been completed!\")\n"
   ]
  },
  {
   "cell_type": "markdown",
   "metadata": {},
   "source": [
    "### Normalizing the dataset"
   ]
  },
  {
   "cell_type": "code",
   "execution_count": 17,
   "metadata": {},
   "outputs": [],
   "source": [
    "folderNames = [\"Arjun\",\"Guava\",\"Jamun\",\"Lemon\",\"Mango\",\"Pomegranate\"]\n",
    "\n",
    "inpFolder = r\"E:\\\\amrita class notes\\\\Final year project\\\\Sem 7\\\\Dataset\\\\bgRemoved_dataset\"\n",
    "\n",
    "for folder in folderNames:\n",
    "    foldername = os.path.join(inpFolder,folder)\n",
    "    for filename in os.listdir(foldername):\n",
    "        if filename.endswith(\".JPG\"):\n",
    "            f_img = foldername+\"/\"+filename\n",
    "            img = Image.open(f_img)\n",
    "            img = img.resize((600,400))\n",
    "            img.save(f_img)\n",
    "    print(folder,\"has been normalized!\")"
   ]
  },
  {
   "cell_type": "code",
   "execution_count": null,
   "metadata": {},
   "outputs": [],
   "source": []
  },
  {
   "cell_type": "markdown",
   "metadata": {},
   "source": [
    "### Split data into train, test"
   ]
  },
  {
   "cell_type": "code",
   "execution_count": 18,
   "metadata": {},
   "outputs": [],
   "source": [
    "rootdir= \"E:\\\\amrita class notes\\\\Final year project\\\\Sem 7\\\\Dataset\\\\bgRemoved_dataset\"\n",
    "destdir= \"E:\\\\amrita class notes\\\\Final year project\\\\Sem 7\\\\Dataset\\\\final_dataset\" \n",
    "classes = [\"Arjun\",\"Guava\",\"Jamun\",\"Lemon\",\"Mango\",\"Pomegranate\"]\n",
    "for i in classes:\n",
    "    os.makedirs(destdir +'/train/' + i)\n",
    "    os.makedirs(destdir +'/test/' + i)\n",
    "    source = rootdir + '/' + i\n",
    "    allFileNames = os.listdir(source)\n",
    "    np.random.shuffle(allFileNames)\n",
    "    test_ratio = 0.4\n",
    "    train_FileNames, test_FileNames = np.split(np.array(allFileNames),[int(len(allFileNames)* (1 - test_ratio))])\n",
    "    train_FileNames = [source+'/'+ name for name in train_FileNames.tolist()]\n",
    "    test_FileNames = [source+'/' + name for name in test_FileNames.tolist()]\n",
    "    for name in train_FileNames:\n",
    "      shutil.copy(name, destdir +'/train/' + i)\n",
    "    for name in test_FileNames:\n",
    "      shutil.copy(name, destdir +'/test/' + i)"
   ]
  },
  {
   "cell_type": "markdown",
   "metadata": {},
   "source": [
    "### CNN"
   ]
  },
  {
   "cell_type": "code",
   "execution_count": 89,
   "metadata": {},
   "outputs": [
    {
     "name": "stdout",
     "output_type": "stream",
     "text": [
      "Model: \"sequential_3\"\n",
      "_________________________________________________________________\n",
      "Layer (type)                 Output Shape              Param #   \n",
      "=================================================================\n",
      "conv2d_9 (Conv2D)            (None, 598, 398, 48)      1344      \n",
      "_________________________________________________________________\n",
      "max_pooling2d_9 (MaxPooling2 (None, 299, 199, 48)      0         \n",
      "_________________________________________________________________\n",
      "conv2d_10 (Conv2D)           (None, 297, 197, 48)      20784     \n",
      "_________________________________________________________________\n",
      "max_pooling2d_10 (MaxPooling (None, 148, 98, 48)       0         \n",
      "_________________________________________________________________\n",
      "conv2d_11 (Conv2D)           (None, 146, 96, 32)       13856     \n",
      "_________________________________________________________________\n",
      "max_pooling2d_11 (MaxPooling (None, 73, 48, 32)        0         \n",
      "_________________________________________________________________\n",
      "flatten_3 (Flatten)          (None, 112128)            0         \n",
      "_________________________________________________________________\n",
      "dense_9 (Dense)              (None, 128)               14352512  \n",
      "_________________________________________________________________\n",
      "dense_10 (Dense)             (None, 64)                8256      \n",
      "_________________________________________________________________\n",
      "dense_11 (Dense)             (None, 4)                 260       \n",
      "=================================================================\n",
      "Total params: 14,397,012\n",
      "Trainable params: 14,397,012\n",
      "Non-trainable params: 0\n",
      "_________________________________________________________________\n",
      "Found 246 images belonging to 4 classes.\n",
      "Found 165 images belonging to 4 classes.\n",
      "Epoch 1/10\n",
      "8/8 [==============================] - 47s 6s/step - loss: 0.5337 - accuracy: 0.4350 - val_loss: 0.4236 - val_accuracy: 0.6061\n",
      "Epoch 2/10\n",
      "8/8 [==============================] - 59s 8s/step - loss: 0.2711 - accuracy: 0.7846 - val_loss: 0.2906 - val_accuracy: 0.7758\n",
      "Epoch 3/10\n",
      "8/8 [==============================] - 58s 7s/step - loss: 0.1537 - accuracy: 0.8943 - val_loss: 0.2466 - val_accuracy: 0.8182\n",
      "Epoch 4/10\n",
      "8/8 [==============================] - 58s 7s/step - loss: 0.0695 - accuracy: 0.9797 - val_loss: 0.2451 - val_accuracy: 0.8485\n",
      "Epoch 5/10\n",
      "8/8 [==============================] - 60s 8s/step - loss: 0.0346 - accuracy: 0.9797 - val_loss: 0.2851 - val_accuracy: 0.8061\n",
      "Epoch 6/10\n",
      "8/8 [==============================] - 61s 8s/step - loss: 0.0267 - accuracy: 0.9919 - val_loss: 0.4286 - val_accuracy: 0.8364\n",
      "Epoch 7/10\n",
      "8/8 [==============================] - 58s 7s/step - loss: 0.0113 - accuracy: 1.0000 - val_loss: 0.4246 - val_accuracy: 0.7879\n",
      "Epoch 8/10\n",
      "8/8 [==============================] - 56s 7s/step - loss: 0.0030 - accuracy: 1.0000 - val_loss: 0.3345 - val_accuracy: 0.8545\n",
      "Epoch 9/10\n",
      "8/8 [==============================] - 58s 7s/step - loss: 6.2795e-04 - accuracy: 1.0000 - val_loss: 0.3979 - val_accuracy: 0.8424\n",
      "Epoch 10/10\n",
      "8/8 [==============================] - 59s 7s/step - loss: 4.5354e-04 - accuracy: 1.0000 - val_loss: 0.4371 - val_accuracy: 0.8485\n"
     ]
    }
   ],
   "source": [
    "\n",
    "model=Sequential()\n",
    "\n",
    "\n",
    "model.add(Conv2D(filters=48,kernel_size=3,activation='relu',input_shape=(600,400,3)))\n",
    "\n",
    "model.add(MaxPooling2D(pool_size=2,strides=2))\n",
    "\n",
    "model.add(Conv2D(filters=48,kernel_size=3,activation='relu'))\n",
    "\n",
    "model.add(MaxPooling2D(pool_size=2,strides=2))\n",
    "\n",
    "model.add(Conv2D(filters=32,kernel_size=3,activation='relu'))\n",
    "\n",
    "model.add(MaxPooling2D(pool_size=2,strides=2))\n",
    "\n",
    "model.add(Flatten())\n",
    "\n",
    "model.add(Dense(128,activation='relu'))\n",
    "\n",
    "model.add(Dense(64,activation='relu'))\n",
    "\n",
    "model.add(Dense(4,activation='softmax'))\n",
    "\n",
    "model.compile(optimizer='adam',loss='binary_crossentropy',metrics=['accuracy'])\n",
    "\n",
    "model.summary()\n",
    "\n",
    "from keras.preprocessing.image import ImageDataGenerator\n",
    "train_datagen = ImageDataGenerator(rescale=1./255)\n",
    "\n",
    "test_datagen = ImageDataGenerator(rescale=1./255)\n",
    "\n",
    "training_set = train_datagen.flow_from_directory(\n",
    "        'E:\\\\amrita class notes\\\\Final year project\\\\Sem 7\\\\Dataset\\\\final_dataset\\\\train',\n",
    "        target_size=(600,400),\n",
    "        batch_size=32,  \n",
    "        class_mode='categorical')\n",
    "\n",
    "test_set = test_datagen.flow_from_directory(\n",
    "        'E:\\\\amrita class notes\\\\Final year project\\\\Sem 7\\\\Dataset\\\\final_dataset\\\\test',\n",
    "        target_size=(600,400),\n",
    "        batch_size=32,  \n",
    "        class_mode='categorical')\n",
    "\n",
    "model_saved=model.fit_generator(\n",
    "        generator=training_set,\n",
    "        epochs=10,\n",
    "        validation_data=test_set)\n",
    "\n",
    "model.save('newmodel.h5',model_saved)\n",
    "\n",
    "\n"
   ]
  },
  {
   "cell_type": "code",
   "execution_count": 90,
   "metadata": {
    "collapsed": true
   },
   "outputs": [
    {
     "ename": "FileNotFoundError",
     "evalue": "[Errno 2] No such file or directory: 'E:\\\\amrita class notes\\\\Final year project\\\\Sem 7\\\\Dataset\\\\final_dataset\\\\train\\\\Arjun\\\\0002_0123.JPG'",
     "output_type": "error",
     "traceback": [
      "\u001b[1;31m---------------------------------------------------------------------------\u001b[0m",
      "\u001b[1;31mFileNotFoundError\u001b[0m                         Traceback (most recent call last)",
      "\u001b[1;32m<ipython-input-90-b987abe7a06b>\u001b[0m in \u001b[0;36m<module>\u001b[1;34m\u001b[0m\n\u001b[0;32m      1\u001b[0m \u001b[1;31m#To test for individual images\u001b[0m\u001b[1;33m\u001b[0m\u001b[1;33m\u001b[0m\u001b[1;33m\u001b[0m\u001b[0m\n\u001b[0;32m      2\u001b[0m \u001b[1;33m\u001b[0m\u001b[0m\n\u001b[1;32m----> 3\u001b[1;33m \u001b[0mtest_image\u001b[0m\u001b[1;33m=\u001b[0m\u001b[0mimage\u001b[0m\u001b[1;33m.\u001b[0m\u001b[0mload_img\u001b[0m\u001b[1;33m(\u001b[0m\u001b[1;34m'E:\\\\amrita class notes\\\\Final year project\\\\Sem 7\\\\Dataset\\\\final_dataset\\\\train\\\\Arjun\\\\0002_0123.JPG'\u001b[0m\u001b[1;33m,\u001b[0m\u001b[0mtarget_size\u001b[0m\u001b[1;33m=\u001b[0m\u001b[1;33m(\u001b[0m\u001b[1;36m600\u001b[0m\u001b[1;33m,\u001b[0m\u001b[1;36m400\u001b[0m\u001b[1;33m,\u001b[0m\u001b[1;36m3\u001b[0m\u001b[1;33m)\u001b[0m\u001b[1;33m)\u001b[0m\u001b[1;33m\u001b[0m\u001b[1;33m\u001b[0m\u001b[0m\n\u001b[0m\u001b[0;32m      4\u001b[0m \u001b[1;33m\u001b[0m\u001b[0m\n\u001b[0;32m      5\u001b[0m \u001b[0mtest_image\u001b[0m\u001b[1;33m\u001b[0m\u001b[1;33m\u001b[0m\u001b[0m\n",
      "\u001b[1;32mC:\\ProgramData\\Anaconda3\\lib\\site-packages\\keras\\preprocessing\\image.py\u001b[0m in \u001b[0;36mload_img\u001b[1;34m(path, grayscale, color_mode, target_size, interpolation)\u001b[0m\n\u001b[0;32m    311\u001b[0m       \u001b[0mValueError\u001b[0m\u001b[1;33m:\u001b[0m \u001b[1;32mif\u001b[0m \u001b[0minterpolation\u001b[0m \u001b[0mmethod\u001b[0m \u001b[1;32mis\u001b[0m \u001b[1;32mnot\u001b[0m \u001b[0msupported\u001b[0m\u001b[1;33m.\u001b[0m\u001b[1;33m\u001b[0m\u001b[1;33m\u001b[0m\u001b[0m\n\u001b[0;32m    312\u001b[0m   \"\"\"\n\u001b[1;32m--> 313\u001b[1;33m   return image.load_img(path, grayscale=grayscale, color_mode=color_mode,\n\u001b[0m\u001b[0;32m    314\u001b[0m                         target_size=target_size, interpolation=interpolation)\n\u001b[0;32m    315\u001b[0m \u001b[1;33m\u001b[0m\u001b[0m\n",
      "\u001b[1;32mC:\\ProgramData\\Anaconda3\\lib\\site-packages\\keras_preprocessing\\image\\utils.py\u001b[0m in \u001b[0;36mload_img\u001b[1;34m(path, grayscale, color_mode, target_size, interpolation)\u001b[0m\n\u001b[0;32m    111\u001b[0m         raise ImportError('Could not import PIL.Image. '\n\u001b[0;32m    112\u001b[0m                           'The use of `load_img` requires PIL.')\n\u001b[1;32m--> 113\u001b[1;33m     \u001b[1;32mwith\u001b[0m \u001b[0mopen\u001b[0m\u001b[1;33m(\u001b[0m\u001b[0mpath\u001b[0m\u001b[1;33m,\u001b[0m \u001b[1;34m'rb'\u001b[0m\u001b[1;33m)\u001b[0m \u001b[1;32mas\u001b[0m \u001b[0mf\u001b[0m\u001b[1;33m:\u001b[0m\u001b[1;33m\u001b[0m\u001b[1;33m\u001b[0m\u001b[0m\n\u001b[0m\u001b[0;32m    114\u001b[0m         \u001b[0mimg\u001b[0m \u001b[1;33m=\u001b[0m \u001b[0mpil_image\u001b[0m\u001b[1;33m.\u001b[0m\u001b[0mopen\u001b[0m\u001b[1;33m(\u001b[0m\u001b[0mio\u001b[0m\u001b[1;33m.\u001b[0m\u001b[0mBytesIO\u001b[0m\u001b[1;33m(\u001b[0m\u001b[0mf\u001b[0m\u001b[1;33m.\u001b[0m\u001b[0mread\u001b[0m\u001b[1;33m(\u001b[0m\u001b[1;33m)\u001b[0m\u001b[1;33m)\u001b[0m\u001b[1;33m)\u001b[0m\u001b[1;33m\u001b[0m\u001b[1;33m\u001b[0m\u001b[0m\n\u001b[0;32m    115\u001b[0m         \u001b[1;32mif\u001b[0m \u001b[0mcolor_mode\u001b[0m \u001b[1;33m==\u001b[0m \u001b[1;34m'grayscale'\u001b[0m\u001b[1;33m:\u001b[0m\u001b[1;33m\u001b[0m\u001b[1;33m\u001b[0m\u001b[0m\n",
      "\u001b[1;31mFileNotFoundError\u001b[0m: [Errno 2] No such file or directory: 'E:\\\\amrita class notes\\\\Final year project\\\\Sem 7\\\\Dataset\\\\final_dataset\\\\train\\\\Arjun\\\\0002_0123.JPG'"
     ]
    }
   ],
   "source": [
    "#To test for individual images\n",
    "\n",
    "test_image=image.load_img('E:\\\\amrita class notes\\\\Final year project\\\\Sem 7\\\\Dataset\\\\final_dataset\\\\train\\\\Arjun\\\\0002_0123.JPG',target_size=(600,400,3))\n",
    "\n",
    "test_image\n",
    "test_image=image.img_to_array(test_image)\n",
    "test_image=np.expand_dims(test_image,axis=0)\n",
    "a=model.predict(test_image)\n",
    "print(a)\n"
   ]
  },
  {
   "cell_type": "markdown",
   "metadata": {},
   "source": [
    "### temp"
   ]
  },
  {
   "cell_type": "code",
   "execution_count": 71,
   "metadata": {},
   "outputs": [],
   "source": [
    "from skimage.io import imshow, imread\n",
    "from skimage.color import rgb2gray\n",
    "from skimage.filters import threshold_otsu\n",
    "from skimage.morphology import closing\n",
    "from skimage.measure import label, regionprops, regionprops_table\n",
    "from sklearn.ensemble import GradientBoostingClassifier, RandomForestClassifier\n",
    "from sklearn.model_selection import train_test_split\n",
    "from sklearn.metrics import classification_report\n",
    "from matplotlib import pyplot as plt\n",
    "import pandas as pd\n",
    "import numpy as np\n",
    "from tqdm import tqdm\n",
    "import os"
   ]
  },
  {
   "cell_type": "code",
   "execution_count": 74,
   "metadata": {},
   "outputs": [],
   "source": [
    "folderNames = [\"Arjun\",\"Guava\",\"Jamun\",\"Lemon\",\"Mango\",\"Pomegranate\"]\n",
    "inpFolder = \"E:\\\\amrita class notes\\\\Final year project\\\\Sem 7\\\\Dataset\\\\final_dataset\\\\train\"\n",
    "\n",
    "\n",
    "for folder in folderNames:\n",
    "    foldername = os.path.join(inpFolder,folder)\n",
    "    table = pd.DataFrame()\n",
    "    for filename in os.listdir(foldername):\n",
    "        if filename.endswith(\".JPG\"):\n",
    "            f_img = os.path.join(foldername,filename)\n",
    "            image = rgb2gray(imread(f_img))\n",
    "            binary = image < threshold_otsu(image)\n",
    "            binary = closing(binary)\n",
    "            label_img = label(binary)\n",
    "            tempDict = regionprops_table(label_img, image,['convex_area', 'area','eccentricity', 'extent','inertia_tensor','major_axis_length','minor_axis_length'])\n",
    "            tempDict['convex_ratio'] = tempDict['area']/tempDict['convex_area']\n",
    "            tempDict['label'] = filename\n",
    "            table = table.append(tempDict, ignore_index = True)\n",
    "    table.to_csv(os.path.join(\"E:\\\\amrita class notes\\\\Final year project\\\\Sem 7\\\\Dataset\\\\features\",\"train\",folder+\".csv\"))\n"
   ]
  },
  {
   "cell_type": "code",
   "execution_count": 85,
   "metadata": {},
   "outputs": [],
   "source": [
    "folderNames = [\"Arjun\",\"Guava\",\"Jamun\",\"Lemon\",\"Mango\",\"Pomegranate\"]\n",
    "inpFolder = \"E:\\\\amrita class notes\\\\Final year project\\\\Sem 7\\\\Dataset\\\\final_dataset\\\\train\"\n",
    "\n",
    "\n",
    "for folder in folderNames:\n",
    "    foldername = os.path.join(inpFolder,folder)\n",
    "    df = pd.DataFrame()\n",
    "    for filename in os.listdir(foldername):\n",
    "        if filename.endswith(\".JPG\"):\n",
    "            f_img = os.path.join(foldername,filename)\n",
    "            image = rgb2gray(imread(f_img))\n",
    "            binary = image < threshold_otsu(image)\n",
    "            binary = closing(binary)\n",
    "            label_img = label(binary)\n",
    "            \n",
    "            \n",
    "            table = pd.DataFrame(regionprops_table(label_img, image,['convex_area', 'area', 'eccentricity','extent', 'inertia_tensor','major_axis_length', 'minor_axis_length','perimeter', 'solidity', 'image','orientation', 'moments_central','moments_hu', 'euler_number','equivalent_diameter','mean_intensity', 'bbox']))\n",
    "            table['perimeter_area_ratio'] = table['perimeter']/table['area']\n",
    "            real_images = []\n",
    "            std = []\n",
    "            mean = []\n",
    "            percent25 = []\n",
    "            percent75 = []\n",
    "            for prop in regionprops(label_img): \n",
    "                min_row, min_col, max_row, max_col = prop.bbox\n",
    "                img = image[min_row:max_row,min_col:max_col]\n",
    "                real_images += [img]\n",
    "                mean += [np.mean(img)]\n",
    "                std += [np.std(img)]\n",
    "                percent25 += [np.percentile(img, 25)] \n",
    "                percent75 += [np.percentile(img, 75)]\n",
    "            table['real_images'] = real_images\n",
    "            table['mean_intensity'] = mean\n",
    "            table['std_intensity'] = std\n",
    "            table['25th Percentile'] = mean\n",
    "            table['75th Percentile'] = std\n",
    "            table['iqr'] = table['75th Percentile'] - table['25th Percentile']\n",
    "            table['label'] = filename\n",
    "            df = pd.concat([df, table], axis=0)\n",
    "    df.to_csv(os.path.join(\"E:\\\\amrita class notes\\\\Final year project\\\\Sem 7\\\\Dataset\\\\features\",\"train\",folder+\".csv\"))\n"
   ]
  },
  {
   "cell_type": "code",
   "execution_count": 76,
   "metadata": {},
   "outputs": [],
   "source": [
    "folderNames = [\"Arjun\",\"Guava\",\"Jamun\",\"Lemon\",\"Mango\",\"Pomegranate\"]\n",
    "inpFolder = \"E:\\\\amrita class notes\\\\Final year project\\\\Sem 7\\\\Dataset\\\\final_dataset\\\\test\"\n",
    "\n",
    "\n",
    "for folder in folderNames:\n",
    "    foldername = os.path.join(inpFolder,folder)\n",
    "    table = pd.DataFrame()\n",
    "    for filename in os.listdir(foldername):\n",
    "        if filename.endswith(\".JPG\"):\n",
    "            f_img = os.path.join(foldername,filename)\n",
    "            image = rgb2gray(imread(f_img))\n",
    "            binary = image < threshold_otsu(image)\n",
    "            binary = closing(binary)\n",
    "            label_img = label(binary)\n",
    "            tempDict = regionprops_table(label_img, image,['convex_area', 'area','eccentricity', 'extent','inertia_tensor','major_axis_length','minor_axis_length'])\n",
    "            tempDict['convex_ratio'] = tempDict['area']/tempDict['convex_area']\n",
    "            tempDict['label'] = filename\n",
    "            table = table.append(tempDict, ignore_index = True)\n",
    "    table.to_csv(os.path.join(\"E:\\\\amrita class notes\\\\Final year project\\\\Sem 7\\\\Dataset\\\\features\",\"test\",folder+\".csv\"))\n"
   ]
  },
  {
   "cell_type": "code",
   "execution_count": null,
   "metadata": {},
   "outputs": [],
   "source": []
  },
  {
   "cell_type": "code",
   "execution_count": 77,
   "metadata": {},
   "outputs": [
    {
     "data": {
      "text/plain": [
       "<matplotlib.image.AxesImage at 0x1f447067d90>"
      ]
     },
     "execution_count": 77,
     "metadata": {},
     "output_type": "execute_result"
    },
    {
     "data": {
      "image/png": "[encoded data removed]",
      "text/plain": [
       "<Figure size 432x288 with 1 Axes>"
      ]
     },
     "metadata": {
      "needs_background": "light"
     },
     "output_type": "display_data"
    }
   ],
   "source": [
    "# get the filenames of the leaves under the directory “Leaves”\n",
    "image_path_list = os.listdir(\"E:\\\\amrita class notes\\\\Final year project\\\\Sem 7\\\\Dataset\\\\final_dataset\\\\train\\\\Arjun\")\n",
    " # looking at the first image\n",
    "i = 0\n",
    "image_path = image_path_list[i]\n",
    "image = rgb2gray(imread(\"E:\\\\amrita class notes\\\\Final year project\\\\Sem 7\\\\Dataset\\\\final_dataset\\\\train\\\\Arjun\\\\\"+image_path))\n",
    "imshow(image)"
   ]
  },
  {
   "cell_type": "code",
   "execution_count": 78,
   "metadata": {},
   "outputs": [
    {
     "data": {
      "text/plain": [
       "<matplotlib.image.AxesImage at 0x1f447003820>"
      ]
     },
     "execution_count": 78,
     "metadata": {},
     "output_type": "execute_result"
    },
    {
     "data": {
      "image/png": "[encoded data removed]",
      "text/plain": [
       "<Figure size 432x288 with 1 Axes>"
      ]
     },
     "metadata": {
      "needs_background": "light"
     },
     "output_type": "display_data"
    }
   ],
   "source": [
    "binary = image < threshold_otsu(image)\n",
    "binary = closing(binary)\n",
    "imshow(binary)"
   ]
  },
  {
   "cell_type": "code",
   "execution_count": 79,
   "metadata": {},
   "outputs": [
    {
     "name": "stderr",
     "output_type": "stream",
     "text": [
      "C:\\ProgramData\\Anaconda3\\lib\\site-packages\\skimage\\io\\_plugins\\matplotlib_plugin.py:150: UserWarning: Low image data range; displaying image with stretched contrast.\n",
      "  lo, hi, cmap = _get_display_range(image)\n"
     ]
    },
    {
     "data": {
      "text/plain": [
       "<matplotlib.image.AxesImage at 0x1f4476a5bb0>"
      ]
     },
     "execution_count": 79,
     "metadata": {},
     "output_type": "execute_result"
    },
    {
     "data": {
      "image/png": "[encoded data removed]",
      "text/plain": [
       "<Figure size 432x288 with 2 Axes>"
      ]
     },
     "metadata": {
      "needs_background": "light"
     },
     "output_type": "display_data"
    }
   ],
   "source": [
    "label_img = label(binary)\n",
    "imshow(label_img)"
   ]
  },
  {
   "cell_type": "code",
   "execution_count": 80,
   "metadata": {},
   "outputs": [
    {
     "data": {
      "text/html": [
       "<div>\n",
       "<style scoped>\n",
       "    .dataframe tbody tr th:only-of-type {\n",
       "        vertical-align: middle;\n",
       "    }\n",
       "\n",
       "    .dataframe tbody tr th {\n",
       "        vertical-align: top;\n",
       "    }\n",
       "\n",
       "    .dataframe thead th {\n",
       "        text-align: right;\n",
       "    }\n",
       "</style>\n",
       "<table border=\"1\" class=\"dataframe\">\n",
       "  <thead>\n",
       "    <tr style=\"text-align: right;\">\n",
       "      <th></th>\n",
       "      <th>convex_area</th>\n",
       "      <th>area</th>\n",
       "      <th>eccentricity</th>\n",
       "      <th>extent</th>\n",
       "      <th>inertia_tensor-0-0</th>\n",
       "      <th>inertia_tensor-0-1</th>\n",
       "      <th>inertia_tensor-1-0</th>\n",
       "      <th>inertia_tensor-1-1</th>\n",
       "      <th>major_axis_length</th>\n",
       "      <th>minor_axis_length</th>\n",
       "      <th>convex_ratio</th>\n",
       "      <th>label</th>\n",
       "    </tr>\n",
       "  </thead>\n",
       "  <tbody>\n",
       "    <tr>\n",
       "      <th>0</th>\n",
       "      <td>240000</td>\n",
       "      <td>182012</td>\n",
       "      <td>0.743153</td>\n",
       "      <td>0.758383</td>\n",
       "      <td>36098.147781</td>\n",
       "      <td>-860.150488</td>\n",
       "      <td>-860.150488</td>\n",
       "      <td>16215.74136</td>\n",
       "      <td>760.371384</td>\n",
       "      <td>508.780487</td>\n",
       "      <td>0.758383</td>\n",
       "      <td>0</td>\n",
       "    </tr>\n",
       "  </tbody>\n",
       "</table>\n",
       "</div>"
      ],
      "text/plain": [
       "   convex_area    area  eccentricity    extent  inertia_tensor-0-0  \\\n",
       "0       240000  182012      0.743153  0.758383        36098.147781   \n",
       "\n",
       "   inertia_tensor-0-1  inertia_tensor-1-0  inertia_tensor-1-1  \\\n",
       "0         -860.150488         -860.150488         16215.74136   \n",
       "\n",
       "   major_axis_length  minor_axis_length  convex_ratio label  \n",
       "0         760.371384         508.780487      0.758383     0  "
      ]
     },
     "execution_count": 80,
     "metadata": {},
     "output_type": "execute_result"
    }
   ],
   "source": [
    "table = pd.DataFrame(regionprops_table(label_img, image,\n",
    "                                       ['convex_area', 'area',\n",
    "                                        'eccentricity', 'extent',                   \n",
    "                                        'inertia_tensor',\n",
    "                                        'major_axis_length', \n",
    "                                        'minor_axis_length']))\n",
    "table['convex_ratio'] = table['area']/table['convex_area']\n",
    "table['label'] = image_path[5]\n",
    "table"
   ]
  },
  {
   "cell_type": "code",
   "execution_count": 83,
   "metadata": {},
   "outputs": [
    {
     "data": {
      "text/html": [
       "<div>\n",
       "<style scoped>\n",
       "    .dataframe tbody tr th:only-of-type {\n",
       "        vertical-align: middle;\n",
       "    }\n",
       "\n",
       "    .dataframe tbody tr th {\n",
       "        vertical-align: top;\n",
       "    }\n",
       "\n",
       "    .dataframe thead th {\n",
       "        text-align: right;\n",
       "    }\n",
       "</style>\n",
       "<table border=\"1\" class=\"dataframe\">\n",
       "  <thead>\n",
       "    <tr style=\"text-align: right;\">\n",
       "      <th></th>\n",
       "      <th>convex_area</th>\n",
       "      <th>area</th>\n",
       "      <th>eccentricity</th>\n",
       "      <th>extent</th>\n",
       "      <th>inertia_tensor-0-0</th>\n",
       "      <th>inertia_tensor-0-1</th>\n",
       "      <th>inertia_tensor-1-0</th>\n",
       "      <th>inertia_tensor-1-1</th>\n",
       "      <th>major_axis_length</th>\n",
       "      <th>minor_axis_length</th>\n",
       "      <th>convex_ratio</th>\n",
       "      <th>label</th>\n",
       "    </tr>\n",
       "  </thead>\n",
       "  <tbody>\n",
       "    <tr>\n",
       "      <th>0</th>\n",
       "      <td>240000</td>\n",
       "      <td>182012</td>\n",
       "      <td>0.743153</td>\n",
       "      <td>0.758383</td>\n",
       "      <td>36098.147781</td>\n",
       "      <td>-860.150488</td>\n",
       "      <td>-860.150488</td>\n",
       "      <td>16215.74136</td>\n",
       "      <td>760.371384</td>\n",
       "      <td>508.780487</td>\n",
       "      <td>0.758383</td>\n",
       "      <td>0</td>\n",
       "    </tr>\n",
       "  </tbody>\n",
       "</table>\n",
       "</div>"
      ],
      "text/plain": [
       "   convex_area    area  eccentricity    extent  inertia_tensor-0-0  \\\n",
       "0       240000  182012      0.743153  0.758383        36098.147781   \n",
       "\n",
       "   inertia_tensor-0-1  inertia_tensor-1-0  inertia_tensor-1-1  \\\n",
       "0         -860.150488         -860.150488         16215.74136   \n",
       "\n",
       "   major_axis_length  minor_axis_length  convex_ratio label  \n",
       "0         760.371384         508.780487      0.758383     0  "
      ]
     },
     "execution_count": 83,
     "metadata": {},
     "output_type": "execute_result"
    }
   ],
   "source": [
    "table"
   ]
  },
  {
   "cell_type": "code",
   "execution_count": null,
   "metadata": {},
   "outputs": [],
   "source": []
  },
  {
   "cell_type": "code",
   "execution_count": null,
   "metadata": {},
   "outputs": [],
   "source": []
  },
  {
   "cell_type": "code",
   "execution_count": 60,
   "metadata": {},
   "outputs": [
    {
     "data": {
      "text/html": [
       "<div>\n",
       "<style scoped>\n",
       "    .dataframe tbody tr th:only-of-type {\n",
       "        vertical-align: middle;\n",
       "    }\n",
       "\n",
       "    .dataframe tbody tr th {\n",
       "        vertical-align: top;\n",
       "    }\n",
       "\n",
       "    .dataframe thead th {\n",
       "        text-align: right;\n",
       "    }\n",
       "</style>\n",
       "<table border=\"1\" class=\"dataframe\">\n",
       "  <thead>\n",
       "    <tr style=\"text-align: right;\">\n",
       "      <th></th>\n",
       "      <th>convex_area</th>\n",
       "      <th>area</th>\n",
       "      <th>eccentricity</th>\n",
       "      <th>extent</th>\n",
       "      <th>inertia_tensor-0-0</th>\n",
       "      <th>inertia_tensor-0-1</th>\n",
       "      <th>inertia_tensor-1-0</th>\n",
       "      <th>inertia_tensor-1-1</th>\n",
       "      <th>major_axis_length</th>\n",
       "      <th>minor_axis_length</th>\n",
       "      <th>convex_ratio</th>\n",
       "      <th>label</th>\n",
       "    </tr>\n",
       "  </thead>\n",
       "  <tbody>\n",
       "    <tr>\n",
       "      <th>0</th>\n",
       "      <td>240000</td>\n",
       "      <td>182012</td>\n",
       "      <td>0.743153</td>\n",
       "      <td>0.758383</td>\n",
       "      <td>36098.147781</td>\n",
       "      <td>-860.150488</td>\n",
       "      <td>-860.150488</td>\n",
       "      <td>16215.74136</td>\n",
       "      <td>760.371384</td>\n",
       "      <td>508.780487</td>\n",
       "      <td>0.758383</td>\n",
       "      <td>0</td>\n",
       "    </tr>\n",
       "  </tbody>\n",
       "</table>\n",
       "</div>"
      ],
      "text/plain": [
       "   convex_area    area  eccentricity    extent  inertia_tensor-0-0  \\\n",
       "0       240000  182012      0.743153  0.758383        36098.147781   \n",
       "\n",
       "   inertia_tensor-0-1  inertia_tensor-1-0  inertia_tensor-1-1  \\\n",
       "0         -860.150488         -860.150488         16215.74136   \n",
       "\n",
       "   major_axis_length  minor_axis_length  convex_ratio label  \n",
       "0         760.371384         508.780487      0.758383     0  "
      ]
     },
     "execution_count": 60,
     "metadata": {},
     "output_type": "execute_result"
    }
   ],
   "source": [
    "table = pd.DataFrame(regionprops_table(label_img, image,\n",
    "                                       ['convex_area', 'area',\n",
    "                                        'eccentricity', 'extent',                   \n",
    "                                        'inertia_tensor',\n",
    "                                        'major_axis_length', \n",
    "                                        'minor_axis_length']))\n",
    "table['convex_ratio'] = table['area']/table['convex_area']\n",
    "table['label'] = image_path[5]\n",
    "table"
   ]
  },
  {
   "cell_type": "code",
   "execution_count": null,
   "metadata": {},
   "outputs": [],
   "source": []
  },
  {
   "cell_type": "code",
   "execution_count": null,
   "metadata": {},
   "outputs": [],
   "source": []
  },
  {
   "cell_type": "code",
   "execution_count": null,
   "metadata": {},
   "outputs": [],
   "source": []
  },
  {
   "cell_type": "code",
   "execution_count": null,
   "metadata": {},
   "outputs": [],
   "source": []
  },
  {
   "cell_type": "code",
   "execution_count": 68,
   "metadata": {},
   "outputs": [],
   "source": [
    "d = regionprops_table(label_img, image,\n",
    "                                       ['convex_area', 'area',\n",
    "                                        'eccentricity', 'extent',                   \n",
    "                                        'inertia_tensor',\n",
    "                                        'major_axis_length', \n",
    "                                        'minor_axis_length'])"
   ]
  },
  {
   "cell_type": "code",
   "execution_count": 69,
   "metadata": {},
   "outputs": [
    {
     "data": {
      "text/plain": [
       "{'convex_area': array([240000]),\n",
       " 'area': array([182012]),\n",
       " 'eccentricity': array([0.74315344]),\n",
       " 'extent': array([0.75838333]),\n",
       " 'inertia_tensor-0-0': array([36098.14778073]),\n",
       " 'inertia_tensor-0-1': array([-860.1504884]),\n",
       " 'inertia_tensor-1-0': array([-860.1504884]),\n",
       " 'inertia_tensor-1-1': array([16215.7413601]),\n",
       " 'major_axis_length': array([760.37138432]),\n",
       " 'minor_axis_length': array([508.7804872])}"
      ]
     },
     "execution_count": 69,
     "metadata": {},
     "output_type": "execute_result"
    }
   ],
   "source": [
    "d"
   ]
  },
  {
   "cell_type": "code",
   "execution_count": 75,
   "metadata": {},
   "outputs": [
    {
     "data": {
      "text/html": [
       "<div>\n",
       "<style scoped>\n",
       "    .dataframe tbody tr th:only-of-type {\n",
       "        vertical-align: middle;\n",
       "    }\n",
       "\n",
       "    .dataframe tbody tr th {\n",
       "        vertical-align: top;\n",
       "    }\n",
       "\n",
       "    .dataframe thead th {\n",
       "        text-align: right;\n",
       "    }\n",
       "</style>\n",
       "<table border=\"1\" class=\"dataframe\">\n",
       "  <thead>\n",
       "    <tr style=\"text-align: right;\">\n",
       "      <th></th>\n",
       "      <th>Unnamed: 0</th>\n",
       "      <th>area</th>\n",
       "      <th>convex_area</th>\n",
       "      <th>convex_ratio</th>\n",
       "      <th>eccentricity</th>\n",
       "      <th>extent</th>\n",
       "      <th>inertia_tensor-0-0</th>\n",
       "      <th>inertia_tensor-0-1</th>\n",
       "      <th>inertia_tensor-1-0</th>\n",
       "      <th>inertia_tensor-1-1</th>\n",
       "      <th>label</th>\n",
       "      <th>major_axis_length</th>\n",
       "      <th>minor_axis_length</th>\n",
       "    </tr>\n",
       "  </thead>\n",
       "  <tbody>\n",
       "    <tr>\n",
       "      <th>0</th>\n",
       "      <td>0</td>\n",
       "      <td>[182012]</td>\n",
       "      <td>[240000]</td>\n",
       "      <td>[0.75838333]</td>\n",
       "      <td>[0.74315344]</td>\n",
       "      <td>[0.75838333]</td>\n",
       "      <td>[36098.14778073]</td>\n",
       "      <td>[-860.1504884]</td>\n",
       "      <td>[-860.1504884]</td>\n",
       "      <td>[16215.7413601]</td>\n",
       "      <td>0002_0003.JPG</td>\n",
       "      <td>[760.37138432]</td>\n",
       "      <td>[508.7804872]</td>\n",
       "    </tr>\n",
       "    <tr>\n",
       "      <th>1</th>\n",
       "      <td>1</td>\n",
       "      <td>[218451]</td>\n",
       "      <td>[240000]</td>\n",
       "      <td>[0.9102125]</td>\n",
       "      <td>[0.74713435]</td>\n",
       "      <td>[0.9102125]</td>\n",
       "      <td>[32469.63079355]</td>\n",
       "      <td>[-218.10912798]</td>\n",
       "      <td>[-218.10912798]</td>\n",
       "      <td>[14348.5509852]</td>\n",
       "      <td>0002_0009.JPG</td>\n",
       "      <td>[720.80239312]</td>\n",
       "      <td>[479.09792165]</td>\n",
       "    </tr>\n",
       "    <tr>\n",
       "      <th>2</th>\n",
       "      <td>2</td>\n",
       "      <td>[210542]</td>\n",
       "      <td>[240000]</td>\n",
       "      <td>[0.87725833]</td>\n",
       "      <td>[0.74669035]</td>\n",
       "      <td>[0.87725833]</td>\n",
       "      <td>[33435.25573006]</td>\n",
       "      <td>[-105.29804578]</td>\n",
       "      <td>[-105.29804578]</td>\n",
       "      <td>[14794.40462418]</td>\n",
       "      <td>0002_0010.JPG</td>\n",
       "      <td>[731.41890067]</td>\n",
       "      <td>[486.51922614]</td>\n",
       "    </tr>\n",
       "    <tr>\n",
       "      <th>3</th>\n",
       "      <td>3</td>\n",
       "      <td>[221046      3      1]</td>\n",
       "      <td>[240000      3      1]</td>\n",
       "      <td>[0.921025 1.       1.      ]</td>\n",
       "      <td>[0.74472211 1.         0.        ]</td>\n",
       "      <td>[0.921025 1.       1.      ]</td>\n",
       "      <td>[3.20652622e+04 6.66666667e-01 0.00000000e+00]</td>\n",
       "      <td>[-146.81013385   -0.           -0.        ]</td>\n",
       "      <td>[-146.81013385   -0.           -0.        ]</td>\n",
       "      <td>[14283.26610473     0.             0.        ]</td>\n",
       "      <td>0002_0012.JPG</td>\n",
       "      <td>[716.28457091   3.26598632   0.        ]</td>\n",
       "      <td>[478.0301933   0.          0.       ]</td>\n",
       "    </tr>\n",
       "    <tr>\n",
       "      <th>4</th>\n",
       "      <td>4</td>\n",
       "      <td>[214891]</td>\n",
       "      <td>[240000]</td>\n",
       "      <td>[0.89537917]</td>\n",
       "      <td>[0.74820902]</td>\n",
       "      <td>[0.89537917]</td>\n",
       "      <td>[32849.71925213]</td>\n",
       "      <td>[-259.08013109]</td>\n",
       "      <td>[-259.08013109]</td>\n",
       "      <td>[14465.15370412]</td>\n",
       "      <td>0002_0016.JPG</td>\n",
       "      <td>[725.01993962]</td>\n",
       "      <td>[481.02396454]</td>\n",
       "    </tr>\n",
       "  </tbody>\n",
       "</table>\n",
       "</div>"
      ],
      "text/plain": [
       "   Unnamed: 0                    area             convex_area  \\\n",
       "0           0                [182012]                [240000]   \n",
       "1           1                [218451]                [240000]   \n",
       "2           2                [210542]                [240000]   \n",
       "3           3  [221046      3      1]  [240000      3      1]   \n",
       "4           4                [214891]                [240000]   \n",
       "\n",
       "                   convex_ratio                        eccentricity  \\\n",
       "0                  [0.75838333]                        [0.74315344]   \n",
       "1                   [0.9102125]                        [0.74713435]   \n",
       "2                  [0.87725833]                        [0.74669035]   \n",
       "3  [0.921025 1.       1.      ]  [0.74472211 1.         0.        ]   \n",
       "4                  [0.89537917]                        [0.74820902]   \n",
       "\n",
       "                         extent  \\\n",
       "0                  [0.75838333]   \n",
       "1                   [0.9102125]   \n",
       "2                  [0.87725833]   \n",
       "3  [0.921025 1.       1.      ]   \n",
       "4                  [0.89537917]   \n",
       "\n",
       "                               inertia_tensor-0-0  \\\n",
       "0                                [36098.14778073]   \n",
       "1                                [32469.63079355]   \n",
       "2                                [33435.25573006]   \n",
       "3  [3.20652622e+04 6.66666667e-01 0.00000000e+00]   \n",
       "4                                [32849.71925213]   \n",
       "\n",
       "                            inertia_tensor-0-1  \\\n",
       "0                               [-860.1504884]   \n",
       "1                              [-218.10912798]   \n",
       "2                              [-105.29804578]   \n",
       "3  [-146.81013385   -0.           -0.        ]   \n",
       "4                              [-259.08013109]   \n",
       "\n",
       "                            inertia_tensor-1-0  \\\n",
       "0                               [-860.1504884]   \n",
       "1                              [-218.10912798]   \n",
       "2                              [-105.29804578]   \n",
       "3  [-146.81013385   -0.           -0.        ]   \n",
       "4                              [-259.08013109]   \n",
       "\n",
       "                               inertia_tensor-1-1          label  \\\n",
       "0                                 [16215.7413601]  0002_0003.JPG   \n",
       "1                                 [14348.5509852]  0002_0009.JPG   \n",
       "2                                [14794.40462418]  0002_0010.JPG   \n",
       "3  [14283.26610473     0.             0.        ]  0002_0012.JPG   \n",
       "4                                [14465.15370412]  0002_0016.JPG   \n",
       "\n",
       "                          major_axis_length  \\\n",
       "0                            [760.37138432]   \n",
       "1                            [720.80239312]   \n",
       "2                            [731.41890067]   \n",
       "3  [716.28457091   3.26598632   0.        ]   \n",
       "4                            [725.01993962]   \n",
       "\n",
       "                       minor_axis_length  \n",
       "0                          [508.7804872]  \n",
       "1                         [479.09792165]  \n",
       "2                         [486.51922614]  \n",
       "3  [478.0301933   0.          0.       ]  \n",
       "4                         [481.02396454]  "
      ]
     },
     "execution_count": 75,
     "metadata": {},
     "output_type": "execute_result"
    }
   ],
   "source": [
    "abc = pd.read_csv(\"E:\\\\amrita class notes\\\\Final year project\\\\Sem 7\\\\Dataset\\\\features\\\\train\\\\Arjun.csv\")\n",
    "abc.head()"
   ]
  },
  {
   "cell_type": "code",
   "execution_count": null,
   "metadata": {},
   "outputs": [],
   "source": []
  }
 ],
 "metadata": {
  "kernelspec": {
   "display_name": "Python 3",
   "language": "python",
   "name": "python3"
  },
  "language_info": {
   "codemirror_mode": {
    "name": "ipython",
    "version": 3
   },
   "file_extension": ".py",
   "mimetype": "text/x-python",
   "name": "python",
   "nbconvert_exporter": "python",
   "pygments_lexer": "ipython3",
   "version": "3.8.5"
  }
 },
 "nbformat": 4,
 "nbformat_minor": 4
}
