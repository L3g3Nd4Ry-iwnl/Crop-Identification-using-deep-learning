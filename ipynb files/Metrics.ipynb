{
 "cells": [
  {
   "cell_type": "code",
   "execution_count": 45,
   "metadata": {},
   "outputs": [],
   "source": [
    "import pandas as pd\n",
    "def Metrics(y_test,pred1):\n",
    "    print(\"The models' mean squared error is:\",mean_squared_error(y_test,pred1))\n",
    "    print(\"The models' Accuracy score is:\",accuracy_score(y_test,pred1.round()))\n",
    "    print(\"The models' f1 score is:\",f1_score(y_test, pred1.round(), average='weighted'))\n",
    "    print(\"The models' Precision score is:\",precision_score(y_test,pred1.round(),average='weighted'))\n",
    "    \n"
   ]
  },
  {
   "cell_type": "code",
   "execution_count": 46,
   "metadata": {},
   "outputs": [],
   "source": [
    "def getMetrics(model):\n",
    "    model.fit(x_train,y_train.values.ravel())\n",
    "    pred1 = model.predict(x_test)\n",
    "    Metrics(y_test,pred1) \n",
    "   "
   ]
  },
  {
   "cell_type": "code",
   "execution_count": 47,
   "metadata": {},
   "outputs": [],
   "source": [
    "x_train=pd.read_csv(\"x_train.csv\")\n",
    "y_train=pd.read_csv(\"y_train.csv\")\n",
    "x_test=pd.read_csv(\"x_test.csv\")\n",
    "y_test=pd.read_csv(\"y_test.csv\")"
   ]
  },
  {
   "cell_type": "code",
   "execution_count": 48,
   "metadata": {},
   "outputs": [],
   "source": [
    "import matplotlib.pyplot as plt\n",
    "from sklearn.metrics import precision_score, f1_score, log_loss, mean_squared_error, accuracy_score, confusion_matrix\n",
    "from xgboost import XGBClassifier\n",
    "from sklearn.ensemble import RandomForestRegressor\n",
    "from sklearn.ensemble import AdaBoostClassifier\n",
    "from sklearn.ensemble import AdaBoostClassifier\n",
    "from sklearn import model_selection, metrics\n",
    "from sklearn.ensemble import BaggingClassifier\n",
    "from sklearn.tree import DecisionTreeClassifier\n",
    "from sklearn.naive_bayes import GaussianNB\n",
    "from sklearn.svm import SVC  \n",
    "from sklearn.linear_model import LogisticRegression\n"
   ]
  },
  {
   "cell_type": "markdown",
   "metadata": {},
   "source": [
    "## Evaluation Metrics "
   ]
  },
  {
   "cell_type": "markdown",
   "metadata": {},
   "source": [
    "### XGB Boosting"
   ]
  },
  {
   "cell_type": "code",
   "execution_count": 49,
   "metadata": {},
   "outputs": [
    {
     "name": "stdout",
     "output_type": "stream",
     "text": [
      "\t\t XGBClassifier\n",
      "The models' mean squared error is: 0.12258064516129032\n",
      "The models' Accuracy score is: 0.9354838709677419\n",
      "The models' f1 score is: 0.9357138055968374\n",
      "The models' Precision score is: 0.9363901689708142\n"
     ]
    }
   ],
   "source": [
    "model = XGBClassifier(n_estimators = 1000, learning_rate = 0.05, eval_metric='mlogloss',use_label_encoder =False).fit(x_train,y_train.values.ravel(), early_stopping_rounds = 5, eval_set = [(x_test, y_test.values.ravel())],verbose = False)\n",
    "print('\\t\\t XGBClassifier')\n",
    "getMetrics(model)"
   ]
  },
  {
   "cell_type": "markdown",
   "metadata": {},
   "source": [
    "### Random Forest"
   ]
  },
  {
   "cell_type": "code",
   "execution_count": 50,
   "metadata": {},
   "outputs": [
    {
     "name": "stdout",
     "output_type": "stream",
     "text": [
      "\t\t RandomForest\n",
      "The models' mean squared error is: 0.18868833548387096\n",
      "The models' Accuracy score is: 0.7290322580645161\n",
      "The models' f1 score is: 0.7241399460754299\n",
      "The models' Precision score is: 0.7918981193174741\n"
     ]
    }
   ],
   "source": [
    "model = RandomForestRegressor(n_estimators = 500, random_state=0)\n",
    "print('\\t\\t RandomForest')\n",
    "getMetrics(model)"
   ]
  },
  {
   "cell_type": "markdown",
   "metadata": {},
   "source": [
    "### Ada Boosting"
   ]
  },
  {
   "cell_type": "code",
   "execution_count": 51,
   "metadata": {},
   "outputs": [
    {
     "name": "stdout",
     "output_type": "stream",
     "text": [
      "\t\t AdaBoost\n",
      "The models' mean squared error is: 0.6064516129032258\n",
      "The models' Accuracy score is: 0.7612903225806451\n",
      "The models' f1 score is: 0.7354637173054871\n",
      "The models' Precision score is: 0.7817663817663818\n"
     ]
    }
   ],
   "source": [
    "model = AdaBoostClassifier(n_estimators = 50, learning_rate = 0.2).fit(x_train, y_train.values.ravel())\n",
    "print('\\t\\t AdaBoost')\n",
    "getMetrics(model)"
   ]
  },
  {
   "cell_type": "markdown",
   "metadata": {},
   "source": [
    "### Bagging"
   ]
  },
  {
   "cell_type": "code",
   "execution_count": 52,
   "metadata": {},
   "outputs": [
    {
     "name": "stdout",
     "output_type": "stream",
     "text": [
      "\t\t Bagging\n",
      "The models' mean squared error is: 0.11612903225806452\n",
      "The models' Accuracy score is: 0.9419354838709677\n",
      "The models' f1 score is: 0.9416614894464357\n",
      "The models' Precision score is: 0.9421692582399546\n"
     ]
    }
   ],
   "source": [
    "seed = 14\n",
    "base_cls = DecisionTreeClassifier()\n",
    "num_trees = 101\n",
    "model = BaggingClassifier(base_estimator = base_cls,n_estimators = num_trees,random_state = seed)\n",
    "print('\\t\\t Bagging')\n",
    "getMetrics(model)"
   ]
  },
  {
   "cell_type": "markdown",
   "metadata": {},
   "source": [
    "### Naive Bayes"
   ]
  },
  {
   "cell_type": "code",
   "execution_count": 53,
   "metadata": {},
   "outputs": [
    {
     "name": "stdout",
     "output_type": "stream",
     "text": [
      "\t\t Naive Bayes\n",
      "The models' mean squared error is: 0.896774193548387\n",
      "The models' Accuracy score is: 0.6774193548387096\n",
      "The models' f1 score is: 0.6733782051712222\n",
      "The models' Precision score is: 0.6878868994222972\n"
     ]
    }
   ],
   "source": [
    "model = GaussianNB()\n",
    "print('\\t\\t Naive Bayes')\n",
    "getMetrics(model)"
   ]
  },
  {
   "cell_type": "markdown",
   "metadata": {},
   "source": [
    "### SVM"
   ]
  },
  {
   "cell_type": "code",
   "execution_count": 54,
   "metadata": {},
   "outputs": [
    {
     "name": "stdout",
     "output_type": "stream",
     "text": [
      "\t\t SVM\n",
      "The models' mean squared error is: 1.070967741935484\n",
      "The models' Accuracy score is: 0.5483870967741935\n",
      "The models' f1 score is: 0.5292374980390819\n",
      "The models' Precision score is: 0.6339840963496878\n"
     ]
    }
   ],
   "source": [
    "model = SVC(kernel='linear') \n",
    "print('\\t\\t SVM')\n",
    "getMetrics(model)"
   ]
  },
  {
   "cell_type": "markdown",
   "metadata": {},
   "source": [
    "### Logistic"
   ]
  },
  {
   "cell_type": "code",
   "execution_count": 55,
   "metadata": {},
   "outputs": [
    {
     "name": "stdout",
     "output_type": "stream",
     "text": [
      "\t\t Logistic\n",
      "The models' mean squared error is: 0.8516129032258064\n",
      "The models' Accuracy score is: 0.5741935483870968\n",
      "The models' f1 score is: 0.5560482440995858\n",
      "The models' Precision score is: 0.655690218101084\n"
     ]
    }
   ],
   "source": [
    "model = LogisticRegression(max_iter=10000)\n",
    "print('\\t\\t Logistic')\n",
    "getMetrics(model)"
   ]
  },
  {
   "cell_type": "code",
   "execution_count": null,
   "metadata": {},
   "outputs": [],
   "source": []
  }
 ],
 "metadata": {
  "kernelspec": {
   "display_name": "Python 3",
   "language": "python",
   "name": "python3"
  },
  "language_info": {
   "codemirror_mode": {
    "name": "ipython",
    "version": 3
   },
   "file_extension": ".py",
   "mimetype": "text/x-python",
   "name": "python",
   "nbconvert_exporter": "python",
   "pygments_lexer": "ipython3",
   "version": "3.8.5"
  }
 },
 "nbformat": 4,
 "nbformat_minor": 4
}
